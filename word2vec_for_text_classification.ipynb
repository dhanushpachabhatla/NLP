{
  "cells": [
    {
      "cell_type": "markdown",
      "metadata": {
        "id": "view-in-github",
        "colab_type": "text"
      },
      "source": [
        "<a href=\"https://colab.research.google.com/github/dhanushpachabhatla/NLP/blob/main/word2vec_for_text_classification.ipynb\" target=\"_parent\"><img src=\"https://colab.research.google.com/assets/colab-badge.svg\" alt=\"Open In Colab\"/></a>"
      ]
    },
    {
      "cell_type": "code",
      "execution_count": 4,
      "id": "65f02709",
      "metadata": {
        "id": "65f02709"
      },
      "outputs": [],
      "source": [
        "import numpy as np\n",
        "import pandas as pd"
      ]
    },
    {
      "cell_type": "code",
      "execution_count": 5,
      "id": "ef5387d7",
      "metadata": {
        "id": "ef5387d7"
      },
      "outputs": [],
      "source": [
        "# Read using engine='python' and save to a clean CSV\n",
        "df = pd.read_csv('IMDB Dataset.csv', engine='python', on_bad_lines='skip')\n",
        "df.to_csv('IMDB_Dataset_clean.csv', index=False)"
      ]
    },
    {
      "cell_type": "code",
      "execution_count": 6,
      "id": "bf5b32e2",
      "metadata": {
        "id": "bf5b32e2"
      },
      "outputs": [],
      "source": [
        "df = df.iloc[:10000]"
      ]
    },
    {
      "cell_type": "code",
      "execution_count": 7,
      "id": "bcca0d5e",
      "metadata": {
        "colab": {
          "base_uri": "https://localhost:8080/",
          "height": 206
        },
        "id": "bcca0d5e",
        "outputId": "d7c77014-6ac9-4dc2-807c-56614bd359f0"
      },
      "outputs": [
        {
          "output_type": "execute_result",
          "data": {
            "text/plain": [
              "                                              review sentiment\n",
              "0  One of the other reviewers has mentioned that ...  positive\n",
              "1  A wonderful little production. <br /><br />The...  positive\n",
              "2  I thought this was a wonderful way to spend ti...  positive\n",
              "3  Basically there's a family where a little boy ...  negative\n",
              "4  Petter Mattei's \"Love in the Time of Money\" is...  positive"
            ],
            "text/html": [
              "\n",
              "  <div id=\"df-fae950c2-c5a7-4acb-bed9-5918bbf51522\" class=\"colab-df-container\">\n",
              "    <div>\n",
              "<style scoped>\n",
              "    .dataframe tbody tr th:only-of-type {\n",
              "        vertical-align: middle;\n",
              "    }\n",
              "\n",
              "    .dataframe tbody tr th {\n",
              "        vertical-align: top;\n",
              "    }\n",
              "\n",
              "    .dataframe thead th {\n",
              "        text-align: right;\n",
              "    }\n",
              "</style>\n",
              "<table border=\"1\" class=\"dataframe\">\n",
              "  <thead>\n",
              "    <tr style=\"text-align: right;\">\n",
              "      <th></th>\n",
              "      <th>review</th>\n",
              "      <th>sentiment</th>\n",
              "    </tr>\n",
              "  </thead>\n",
              "  <tbody>\n",
              "    <tr>\n",
              "      <th>0</th>\n",
              "      <td>One of the other reviewers has mentioned that ...</td>\n",
              "      <td>positive</td>\n",
              "    </tr>\n",
              "    <tr>\n",
              "      <th>1</th>\n",
              "      <td>A wonderful little production. &lt;br /&gt;&lt;br /&gt;The...</td>\n",
              "      <td>positive</td>\n",
              "    </tr>\n",
              "    <tr>\n",
              "      <th>2</th>\n",
              "      <td>I thought this was a wonderful way to spend ti...</td>\n",
              "      <td>positive</td>\n",
              "    </tr>\n",
              "    <tr>\n",
              "      <th>3</th>\n",
              "      <td>Basically there's a family where a little boy ...</td>\n",
              "      <td>negative</td>\n",
              "    </tr>\n",
              "    <tr>\n",
              "      <th>4</th>\n",
              "      <td>Petter Mattei's \"Love in the Time of Money\" is...</td>\n",
              "      <td>positive</td>\n",
              "    </tr>\n",
              "  </tbody>\n",
              "</table>\n",
              "</div>\n",
              "    <div class=\"colab-df-buttons\">\n",
              "      \n",
              "  <div class=\"colab-df-container\">\n",
              "    <button class=\"colab-df-convert\" onclick=\"convertToInteractive('df-fae950c2-c5a7-4acb-bed9-5918bbf51522')\"\n",
              "            title=\"Convert this dataframe to an interactive table.\"\n",
              "            style=\"display:none;\">\n",
              "      \n",
              "  <svg xmlns=\"http://www.w3.org/2000/svg\" height=\"24px\" viewBox=\"0 -960 960 960\">\n",
              "    <path d=\"M120-120v-720h720v720H120Zm60-500h600v-160H180v160Zm220 220h160v-160H400v160Zm0 220h160v-160H400v160ZM180-400h160v-160H180v160Zm440 0h160v-160H620v160ZM180-180h160v-160H180v160Zm440 0h160v-160H620v160Z\"/>\n",
              "  </svg>\n",
              "    </button>\n",
              "    \n",
              "  <style>\n",
              "    .colab-df-container {\n",
              "      display:flex;\n",
              "      gap: 12px;\n",
              "    }\n",
              "\n",
              "    .colab-df-convert {\n",
              "      background-color: #E8F0FE;\n",
              "      border: none;\n",
              "      border-radius: 50%;\n",
              "      cursor: pointer;\n",
              "      display: none;\n",
              "      fill: #1967D2;\n",
              "      height: 32px;\n",
              "      padding: 0 0 0 0;\n",
              "      width: 32px;\n",
              "    }\n",
              "\n",
              "    .colab-df-convert:hover {\n",
              "      background-color: #E2EBFA;\n",
              "      box-shadow: 0px 1px 2px rgba(60, 64, 67, 0.3), 0px 1px 3px 1px rgba(60, 64, 67, 0.15);\n",
              "      fill: #174EA6;\n",
              "    }\n",
              "\n",
              "    .colab-df-buttons div {\n",
              "      margin-bottom: 4px;\n",
              "    }\n",
              "\n",
              "    [theme=dark] .colab-df-convert {\n",
              "      background-color: #3B4455;\n",
              "      fill: #D2E3FC;\n",
              "    }\n",
              "\n",
              "    [theme=dark] .colab-df-convert:hover {\n",
              "      background-color: #434B5C;\n",
              "      box-shadow: 0px 1px 3px 1px rgba(0, 0, 0, 0.15);\n",
              "      filter: drop-shadow(0px 1px 2px rgba(0, 0, 0, 0.3));\n",
              "      fill: #FFFFFF;\n",
              "    }\n",
              "  </style>\n",
              "\n",
              "    <script>\n",
              "      const buttonEl =\n",
              "        document.querySelector('#df-fae950c2-c5a7-4acb-bed9-5918bbf51522 button.colab-df-convert');\n",
              "      buttonEl.style.display =\n",
              "        google.colab.kernel.accessAllowed ? 'block' : 'none';\n",
              "\n",
              "      async function convertToInteractive(key) {\n",
              "        const element = document.querySelector('#df-fae950c2-c5a7-4acb-bed9-5918bbf51522');\n",
              "        const dataTable =\n",
              "          await google.colab.kernel.invokeFunction('convertToInteractive',\n",
              "                                                    [key], {});\n",
              "        if (!dataTable) return;\n",
              "\n",
              "        const docLinkHtml = 'Like what you see? Visit the ' +\n",
              "          '<a target=\"_blank\" href=https://colab.research.google.com/notebooks/data_table.ipynb>data table notebook</a>'\n",
              "          + ' to learn more about interactive tables.';\n",
              "        element.innerHTML = '';\n",
              "        dataTable['output_type'] = 'display_data';\n",
              "        await google.colab.output.renderOutput(dataTable, element);\n",
              "        const docLink = document.createElement('div');\n",
              "        docLink.innerHTML = docLinkHtml;\n",
              "        element.appendChild(docLink);\n",
              "      }\n",
              "    </script>\n",
              "  </div>\n",
              "  \n",
              "    </div>\n",
              "  </div>\n",
              "  "
            ]
          },
          "metadata": {},
          "execution_count": 7
        }
      ],
      "source": [
        "df.head()"
      ]
    },
    {
      "cell_type": "code",
      "execution_count": 8,
      "id": "fa7caeae",
      "metadata": {
        "id": "fa7caeae"
      },
      "outputs": [],
      "source": [
        "df.drop_duplicates(inplace=True)"
      ]
    },
    {
      "cell_type": "code",
      "execution_count": 9,
      "id": "c5aa873c",
      "metadata": {
        "id": "c5aa873c"
      },
      "outputs": [],
      "source": [
        "import re\n",
        "def remove_tags(raw_text):\n",
        "    cleaned_text = re.sub(re.compile('<.*?>'), '', raw_text)\n",
        "    return cleaned_text"
      ]
    },
    {
      "cell_type": "code",
      "execution_count": 10,
      "id": "f3ef1d87",
      "metadata": {
        "id": "f3ef1d87"
      },
      "outputs": [],
      "source": [
        "df['review'] = df['review'].apply(remove_tags)"
      ]
    },
    {
      "cell_type": "code",
      "execution_count": 11,
      "id": "81f77af2",
      "metadata": {
        "id": "81f77af2"
      },
      "outputs": [],
      "source": [
        "df['review'] = df['review'].apply(lambda x:x.lower())"
      ]
    },
    {
      "cell_type": "code",
      "source": [
        "import nltk\n",
        "nltk.download('stopwords')"
      ],
      "metadata": {
        "colab": {
          "base_uri": "https://localhost:8080/"
        },
        "id": "UKSEdtkS_zvc",
        "outputId": "5bb3efd7-d228-4f93-f128-b2b332f48620"
      },
      "id": "UKSEdtkS_zvc",
      "execution_count": 12,
      "outputs": [
        {
          "output_type": "stream",
          "name": "stderr",
          "text": [
            "[nltk_data] Downloading package stopwords to /root/nltk_data...\n",
            "[nltk_data]   Package stopwords is already up-to-date!\n"
          ]
        },
        {
          "output_type": "execute_result",
          "data": {
            "text/plain": [
              "True"
            ]
          },
          "metadata": {},
          "execution_count": 12
        }
      ]
    },
    {
      "cell_type": "code",
      "execution_count": 13,
      "id": "cc2b2de9",
      "metadata": {
        "id": "cc2b2de9"
      },
      "outputs": [],
      "source": [
        "from nltk.corpus import stopwords\n",
        "\n",
        "sw_list = stopwords.words('english')\n",
        "\n",
        "df['review'] = df['review'].apply(lambda x: [item for item in x.split() if item not in sw_list]).apply(lambda x:\" \".join(x))"
      ]
    },
    {
      "cell_type": "code",
      "execution_count": 14,
      "id": "7fb66170",
      "metadata": {
        "colab": {
          "base_uri": "https://localhost:8080/",
          "height": 458
        },
        "id": "7fb66170",
        "outputId": "e167e6a9-5975-45ad-86d9-33cbd6592842"
      },
      "outputs": [
        {
          "output_type": "execute_result",
          "data": {
            "text/plain": [
              "0       one reviewers mentioned watching 1 oz episode ...\n",
              "1       wonderful little production. filming technique...\n",
              "2       thought wonderful way spend time hot summer we...\n",
              "3       basically there's family little boy (jake) thi...\n",
              "4       petter mattei's \"love time money\" visually stu...\n",
              "                              ...                        \n",
              "9995    fun, entertaining movie wwii german spy (julie...\n",
              "9996    give break. anyone say \"good hockey movie\"? kn...\n",
              "9997    movie bad movie. watching endless series bad h...\n",
              "9998    movie probably made entertain middle school, e...\n",
              "9999    smashing film film-making. shows intense stran...\n",
              "Name: review, Length: 9983, dtype: object"
            ],
            "text/html": [
              "<div>\n",
              "<style scoped>\n",
              "    .dataframe tbody tr th:only-of-type {\n",
              "        vertical-align: middle;\n",
              "    }\n",
              "\n",
              "    .dataframe tbody tr th {\n",
              "        vertical-align: top;\n",
              "    }\n",
              "\n",
              "    .dataframe thead th {\n",
              "        text-align: right;\n",
              "    }\n",
              "</style>\n",
              "<table border=\"1\" class=\"dataframe\">\n",
              "  <thead>\n",
              "    <tr style=\"text-align: right;\">\n",
              "      <th></th>\n",
              "      <th>review</th>\n",
              "    </tr>\n",
              "  </thead>\n",
              "  <tbody>\n",
              "    <tr>\n",
              "      <th>0</th>\n",
              "      <td>one reviewers mentioned watching 1 oz episode ...</td>\n",
              "    </tr>\n",
              "    <tr>\n",
              "      <th>1</th>\n",
              "      <td>wonderful little production. filming technique...</td>\n",
              "    </tr>\n",
              "    <tr>\n",
              "      <th>2</th>\n",
              "      <td>thought wonderful way spend time hot summer we...</td>\n",
              "    </tr>\n",
              "    <tr>\n",
              "      <th>3</th>\n",
              "      <td>basically there's family little boy (jake) thi...</td>\n",
              "    </tr>\n",
              "    <tr>\n",
              "      <th>4</th>\n",
              "      <td>petter mattei's \"love time money\" visually stu...</td>\n",
              "    </tr>\n",
              "    <tr>\n",
              "      <th>...</th>\n",
              "      <td>...</td>\n",
              "    </tr>\n",
              "    <tr>\n",
              "      <th>9995</th>\n",
              "      <td>fun, entertaining movie wwii german spy (julie...</td>\n",
              "    </tr>\n",
              "    <tr>\n",
              "      <th>9996</th>\n",
              "      <td>give break. anyone say \"good hockey movie\"? kn...</td>\n",
              "    </tr>\n",
              "    <tr>\n",
              "      <th>9997</th>\n",
              "      <td>movie bad movie. watching endless series bad h...</td>\n",
              "    </tr>\n",
              "    <tr>\n",
              "      <th>9998</th>\n",
              "      <td>movie probably made entertain middle school, e...</td>\n",
              "    </tr>\n",
              "    <tr>\n",
              "      <th>9999</th>\n",
              "      <td>smashing film film-making. shows intense stran...</td>\n",
              "    </tr>\n",
              "  </tbody>\n",
              "</table>\n",
              "<p>9983 rows × 1 columns</p>\n",
              "</div><br><label><b>dtype:</b> object</label>"
            ]
          },
          "metadata": {},
          "execution_count": 14
        }
      ],
      "source": [
        "df['review']"
      ]
    },
    {
      "cell_type": "code",
      "source": [
        "!pip install gensim"
      ],
      "metadata": {
        "colab": {
          "base_uri": "https://localhost:8080/"
        },
        "id": "vYQbLC0DADPE",
        "outputId": "be3b8c2e-54ff-4435-b082-85f3d9be234c"
      },
      "id": "vYQbLC0DADPE",
      "execution_count": 15,
      "outputs": [
        {
          "output_type": "stream",
          "name": "stdout",
          "text": [
            "Requirement already satisfied: gensim in /usr/local/lib/python3.11/dist-packages (4.3.3)\n",
            "Requirement already satisfied: numpy<2.0,>=1.18.5 in /usr/local/lib/python3.11/dist-packages (from gensim) (1.26.4)\n",
            "Requirement already satisfied: scipy<1.14.0,>=1.7.0 in /usr/local/lib/python3.11/dist-packages (from gensim) (1.13.1)\n",
            "Requirement already satisfied: smart-open>=1.8.1 in /usr/local/lib/python3.11/dist-packages (from gensim) (7.3.0.post1)\n",
            "Requirement already satisfied: wrapt in /usr/local/lib/python3.11/dist-packages (from smart-open>=1.8.1->gensim) (1.17.2)\n"
          ]
        }
      ]
    },
    {
      "cell_type": "code",
      "execution_count": 16,
      "id": "4e4ac19a",
      "metadata": {
        "id": "4e4ac19a"
      },
      "outputs": [],
      "source": [
        "import gensim"
      ]
    },
    {
      "cell_type": "code",
      "source": [
        "nltk.download('punkt_tab')"
      ],
      "metadata": {
        "colab": {
          "base_uri": "https://localhost:8080/"
        },
        "id": "FmCBSfD9Abmw",
        "outputId": "871b5ca8-e98c-4b80-a279-387a9c6cb1cc"
      },
      "id": "FmCBSfD9Abmw",
      "execution_count": 20,
      "outputs": [
        {
          "output_type": "stream",
          "name": "stderr",
          "text": [
            "[nltk_data] Downloading package punkt_tab to /root/nltk_data...\n",
            "[nltk_data]   Unzipping tokenizers/punkt_tab.zip.\n"
          ]
        },
        {
          "output_type": "execute_result",
          "data": {
            "text/plain": [
              "True"
            ]
          },
          "metadata": {},
          "execution_count": 20
        }
      ]
    },
    {
      "cell_type": "code",
      "execution_count": 17,
      "id": "be405746",
      "metadata": {
        "id": "be405746"
      },
      "outputs": [],
      "source": [
        "from nltk import sent_tokenize\n",
        "from gensim.utils import simple_preprocess"
      ]
    },
    {
      "cell_type": "code",
      "execution_count": 21,
      "id": "0077c32f",
      "metadata": {
        "id": "0077c32f"
      },
      "outputs": [],
      "source": [
        "story = []\n",
        "for doc in df['review']:\n",
        "    raw_sent = sent_tokenize(doc)\n",
        "    for sent in raw_sent:\n",
        "        story.append(simple_preprocess(sent))\n",
        ""
      ]
    },
    {
      "cell_type": "code",
      "execution_count": 22,
      "id": "fb22339d",
      "metadata": {
        "id": "fb22339d"
      },
      "outputs": [],
      "source": [
        "model = gensim.models.Word2Vec(\n",
        "    window=10,\n",
        "    min_count=2\n",
        ")"
      ]
    },
    {
      "cell_type": "code",
      "execution_count": 23,
      "id": "867aaf21",
      "metadata": {
        "id": "867aaf21"
      },
      "outputs": [],
      "source": [
        "model.build_vocab(story)"
      ]
    },
    {
      "cell_type": "code",
      "execution_count": 24,
      "id": "2484c259",
      "metadata": {
        "colab": {
          "base_uri": "https://localhost:8080/"
        },
        "id": "2484c259",
        "outputId": "78f268c9-a69d-4cf6-805e-b860f27b7934"
      },
      "outputs": [
        {
          "output_type": "execute_result",
          "data": {
            "text/plain": [
              "(5850545, 6186875)"
            ]
          },
          "metadata": {},
          "execution_count": 24
        }
      ],
      "source": [
        "model.train(story, total_examples=model.corpus_count, epochs=model.epochs)"
      ]
    },
    {
      "cell_type": "code",
      "execution_count": 25,
      "id": "7e303a99",
      "metadata": {
        "colab": {
          "base_uri": "https://localhost:8080/"
        },
        "id": "7e303a99",
        "outputId": "a8f03a57-86cb-4f78-bc2f-0331b2e3ee04"
      },
      "outputs": [
        {
          "output_type": "execute_result",
          "data": {
            "text/plain": [
              "31845"
            ]
          },
          "metadata": {},
          "execution_count": 25
        }
      ],
      "source": [
        "len(model.wv.index_to_key)"
      ]
    },
    {
      "cell_type": "code",
      "execution_count": 26,
      "id": "9e35574d",
      "metadata": {
        "id": "9e35574d"
      },
      "outputs": [],
      "source": [
        "def document_vector(doc):\n",
        "    # remove out-of-vocabulary words\n",
        "    doc = [word for word in doc.split() if word in model.wv.index_to_key]\n",
        "    return np.mean(model.wv[doc], axis=0)"
      ]
    },
    {
      "cell_type": "code",
      "execution_count": 27,
      "id": "f17deef0",
      "metadata": {
        "colab": {
          "base_uri": "https://localhost:8080/"
        },
        "id": "f17deef0",
        "outputId": "9a3b8637-331c-4bb1-9e5b-ce28552748e9"
      },
      "outputs": [
        {
          "output_type": "execute_result",
          "data": {
            "text/plain": [
              "array([-0.04152966,  0.40066552,  0.2272707 , -0.03860345, -0.01927529,\n",
              "       -0.50978416,  0.13453211,  0.8348189 , -0.2240644 , -0.14375933,\n",
              "       -0.2350125 , -0.5413904 , -0.02810611,  0.25996378,  0.22926997,\n",
              "       -0.22832994,  0.11152114, -0.5434717 , -0.07136171, -0.7360444 ,\n",
              "        0.07797845,  0.09734044,  0.22790511, -0.2624658 , -0.23329854,\n",
              "       -0.18477233, -0.2354096 , -0.24509472, -0.43993402, -0.03865805,\n",
              "        0.3944676 ,  0.08972777,  0.02627932, -0.17350253, -0.3695076 ,\n",
              "        0.3702641 ,  0.03929527, -0.2488907 , -0.17762627, -0.750629  ,\n",
              "        0.06693354, -0.26424268, -0.02825491,  0.02361896,  0.4348748 ,\n",
              "       -0.19389533, -0.3926365 , -0.20244266,  0.14798345,  0.31403407,\n",
              "        0.16177945, -0.27259338, -0.25937623, -0.18584289, -0.38880134,\n",
              "        0.04547076,  0.37484148,  0.22327694, -0.30562982,  0.06509357,\n",
              "       -0.07465009,  0.18476284, -0.20369056, -0.01814944, -0.40890515,\n",
              "        0.4276432 ,  0.00731201,  0.14127137, -0.5583893 ,  0.30766797,\n",
              "       -0.20673071,  0.26734915,  0.37456763, -0.00447351,  0.35683388,\n",
              "        0.07239201,  0.14424598, -0.21068862, -0.325185  ,  0.04723229,\n",
              "       -0.30290076, -0.04053633, -0.44811463,  0.5106476 , -0.04510961,\n",
              "       -0.14260781,  0.09795289,  0.24167617,  0.29620618,  0.11609062,\n",
              "        0.33872348,  0.1212438 , -0.07957203,  0.08918446,  0.6435262 ,\n",
              "        0.08192685,  0.31439248, -0.28544596,  0.28856173, -0.08592829],\n",
              "      dtype=float32)"
            ]
          },
          "metadata": {},
          "execution_count": 27
        }
      ],
      "source": [
        "document_vector(df['review'].values[0])"
      ]
    },
    {
      "cell_type": "code",
      "execution_count": 28,
      "id": "29d97c64",
      "metadata": {
        "id": "29d97c64"
      },
      "outputs": [],
      "source": [
        "from tqdm import tqdm"
      ]
    },
    {
      "cell_type": "code",
      "execution_count": 29,
      "id": "5802ab7f",
      "metadata": {
        "colab": {
          "base_uri": "https://localhost:8080/"
        },
        "id": "5802ab7f",
        "outputId": "3fa026ce-f584-4cfb-8baa-fb064cfa195d"
      },
      "outputs": [
        {
          "output_type": "stream",
          "name": "stderr",
          "text": [
            "100%|██████████| 9983/9983 [06:40<00:00, 24.93it/s]\n"
          ]
        }
      ],
      "source": [
        "X = []\n",
        "for doc in tqdm(df['review'].values):\n",
        "    X.append(document_vector(doc))"
      ]
    },
    {
      "cell_type": "code",
      "execution_count": 30,
      "id": "d8ac1c2d",
      "metadata": {
        "id": "d8ac1c2d"
      },
      "outputs": [],
      "source": [
        "X = np.array(X)"
      ]
    },
    {
      "cell_type": "code",
      "execution_count": 31,
      "id": "aab60576",
      "metadata": {
        "colab": {
          "base_uri": "https://localhost:8080/"
        },
        "id": "aab60576",
        "outputId": "c479b257-c220-4b69-913d-c3c51c4ce1a1"
      },
      "outputs": [
        {
          "output_type": "execute_result",
          "data": {
            "text/plain": [
              "array([-0.04152966,  0.40066552,  0.2272707 , -0.03860345, -0.01927529,\n",
              "       -0.50978416,  0.13453211,  0.8348189 , -0.2240644 , -0.14375933,\n",
              "       -0.2350125 , -0.5413904 , -0.02810611,  0.25996378,  0.22926997,\n",
              "       -0.22832994,  0.11152114, -0.5434717 , -0.07136171, -0.7360444 ,\n",
              "        0.07797845,  0.09734044,  0.22790511, -0.2624658 , -0.23329854,\n",
              "       -0.18477233, -0.2354096 , -0.24509472, -0.43993402, -0.03865805,\n",
              "        0.3944676 ,  0.08972777,  0.02627932, -0.17350253, -0.3695076 ,\n",
              "        0.3702641 ,  0.03929527, -0.2488907 , -0.17762627, -0.750629  ,\n",
              "        0.06693354, -0.26424268, -0.02825491,  0.02361896,  0.4348748 ,\n",
              "       -0.19389533, -0.3926365 , -0.20244266,  0.14798345,  0.31403407,\n",
              "        0.16177945, -0.27259338, -0.25937623, -0.18584289, -0.38880134,\n",
              "        0.04547076,  0.37484148,  0.22327694, -0.30562982,  0.06509357,\n",
              "       -0.07465009,  0.18476284, -0.20369056, -0.01814944, -0.40890515,\n",
              "        0.4276432 ,  0.00731201,  0.14127137, -0.5583893 ,  0.30766797,\n",
              "       -0.20673071,  0.26734915,  0.37456763, -0.00447351,  0.35683388,\n",
              "        0.07239201,  0.14424598, -0.21068862, -0.325185  ,  0.04723229,\n",
              "       -0.30290076, -0.04053633, -0.44811463,  0.5106476 , -0.04510961,\n",
              "       -0.14260781,  0.09795289,  0.24167617,  0.29620618,  0.11609062,\n",
              "        0.33872348,  0.1212438 , -0.07957203,  0.08918446,  0.6435262 ,\n",
              "        0.08192685,  0.31439248, -0.28544596,  0.28856173, -0.08592829],\n",
              "      dtype=float32)"
            ]
          },
          "metadata": {},
          "execution_count": 31
        }
      ],
      "source": [
        "X[0]"
      ]
    },
    {
      "cell_type": "code",
      "execution_count": 32,
      "id": "a6c0835d",
      "metadata": {
        "id": "a6c0835d"
      },
      "outputs": [],
      "source": [
        "from sklearn.preprocessing import LabelEncoder\n",
        "encoder = LabelEncoder()\n",
        "\n",
        "y = encoder.fit_transform(df['sentiment'])"
      ]
    },
    {
      "cell_type": "code",
      "execution_count": 33,
      "id": "ec5ece01",
      "metadata": {
        "colab": {
          "base_uri": "https://localhost:8080/"
        },
        "id": "ec5ece01",
        "outputId": "200a4637-821e-4372-98d6-d24b5c6f210c"
      },
      "outputs": [
        {
          "output_type": "execute_result",
          "data": {
            "text/plain": [
              "array([1, 1, 1, ..., 0, 0, 1])"
            ]
          },
          "metadata": {},
          "execution_count": 33
        }
      ],
      "source": [
        "y"
      ]
    },
    {
      "cell_type": "code",
      "execution_count": 34,
      "id": "e9460495",
      "metadata": {
        "id": "e9460495"
      },
      "outputs": [],
      "source": [
        "from sklearn.model_selection import train_test_split\n",
        "X_train,X_test,y_train,y_test = train_test_split(X,y,test_size=0.2,random_state=1)"
      ]
    },
    {
      "cell_type": "code",
      "execution_count": 35,
      "id": "90f10ae3",
      "metadata": {
        "id": "90f10ae3"
      },
      "outputs": [],
      "source": [
        "from sklearn.ensemble import RandomForestClassifier\n",
        "from sklearn.metrics import accuracy_score"
      ]
    },
    {
      "cell_type": "code",
      "execution_count": 36,
      "id": "1e1a6d9b",
      "metadata": {
        "colab": {
          "base_uri": "https://localhost:8080/"
        },
        "id": "1e1a6d9b",
        "outputId": "55f35f26-6197-4982-dc09-6b8196976650"
      },
      "outputs": [
        {
          "output_type": "execute_result",
          "data": {
            "text/plain": [
              "0.7766649974962444"
            ]
          },
          "metadata": {},
          "execution_count": 36
        }
      ],
      "source": [
        "rf = RandomForestClassifier()\n",
        "rf.fit(X_train,y_train)\n",
        "y_pred = rf.predict(X_test)\n",
        "accuracy_score(y_test,y_pred)"
      ]
    }
  ],
  "metadata": {
    "kernelspec": {
      "display_name": "Python 3",
      "language": "python",
      "name": "python3"
    },
    "language_info": {
      "codemirror_mode": {
        "name": "ipython",
        "version": 3
      },
      "file_extension": ".py",
      "mimetype": "text/x-python",
      "name": "python",
      "nbconvert_exporter": "python",
      "pygments_lexer": "ipython3",
      "version": "3.8.8"
    },
    "colab": {
      "provenance": [],
      "include_colab_link": true
    }
  },
  "nbformat": 4,
  "nbformat_minor": 5
}